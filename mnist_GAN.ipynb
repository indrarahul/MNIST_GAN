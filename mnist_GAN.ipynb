{
 "cells": [
  {
   "cell_type": "markdown",
   "metadata": {},
   "source": [
    "# MNIST - Generative Adversarial Network"
   ]
  },
  {
   "cell_type": "code",
   "execution_count": 18,
   "metadata": {},
   "outputs": [],
   "source": [
    "from __future__ import division, print_function, absolute_import\n",
    "import matplotlib.pyplot as plt\n",
    "import numpy as np\n",
    "import tensorflow as tf"
   ]
  },
  {
   "cell_type": "code",
   "execution_count": 19,
   "metadata": {},
   "outputs": [
    {
     "name": "stdout",
     "output_type": "stream",
     "text": [
      "Extracting /tmp/data/train-images-idx3-ubyte.gz\n",
      "Extracting /tmp/data/train-labels-idx1-ubyte.gz\n",
      "Extracting /tmp/data/t10k-images-idx3-ubyte.gz\n",
      "Extracting /tmp/data/t10k-labels-idx1-ubyte.gz\n"
     ]
    }
   ],
   "source": [
    "# Import MNIST data\n",
    "from tensorflow.examples.tutorials.mnist import input_data\n",
    "mnist = input_data.read_data_sets(\"/tmp/data/\", one_hot=True)"
   ]
  },
  {
   "cell_type": "code",
   "execution_count": 20,
   "metadata": {},
   "outputs": [],
   "source": [
    "#Training Params\n",
    "learning_rate = 0.0002\n",
    "batch_size = 128\n",
    "num_steps = 70000"
   ]
  },
  {
   "cell_type": "code",
   "execution_count": 21,
   "metadata": {},
   "outputs": [],
   "source": [
    "#Network Params\n",
    "image_dim = 784\n",
    "gen_hidden_dim = 256\n",
    "disc_hidden_dim = 256\n",
    "noise_dim = 100"
   ]
  },
  {
   "cell_type": "code",
   "execution_count": 22,
   "metadata": {},
   "outputs": [],
   "source": [
    "#Custom Initializer\n",
    "def xav(shape):\n",
    "    return tf.random_normal(shape=shape,stddev=1./tf.sqrt(shape[0]/2.))"
   ]
  },
  {
   "cell_type": "code",
   "execution_count": 23,
   "metadata": {},
   "outputs": [],
   "source": [
    "#Store layers weight and biases\n",
    "weights = {\n",
    "    'gen_hidden_1' :tf.Variable(xav([noise_dim,gen_hidden_dim])),\n",
    "    'gen_out' : tf.Variable(xav([gen_hidden_dim,image_dim])),\n",
    "    'disc_hidden_1' : tf.Variable(xav([image_dim,disc_hidden_dim])),\n",
    "    'disc_out' : tf.Variable(xav([disc_hidden_dim,1]))\n",
    "}\n",
    "\n",
    "biases = {\n",
    "    'gen_hidden_1' : tf.Variable(tf.zeros([gen_hidden_dim])),\n",
    "    'gen_out' : tf.Variable(tf.zeros([image_dim])),\n",
    "    'disc_hidden_1' : tf.Variable(tf.zeros([disc_hidden_dim])),\n",
    "    'disc_out' : tf.Variable(tf.zeros([1]))\n",
    "}"
   ]
  },
  {
   "cell_type": "code",
   "execution_count": 24,
   "metadata": {},
   "outputs": [],
   "source": [
    "#Generator\n",
    "def generator(x):\n",
    "    hid_layer = tf.add(tf.matmul(x,weights['gen_hidden_1']),biases['gen_hidden_1'])\n",
    "    hid_layer = tf.nn.relu(hid_layer)\n",
    "    \n",
    "    out_layer = tf.add(tf.matmul(hid_layer,weights['gen_out']),biases['gen_out'])\n",
    "    out_layer = tf.nn.sigmoid(out_layer)\n",
    "    \n",
    "    return out_layer"
   ]
  },
  {
   "cell_type": "code",
   "execution_count": 25,
   "metadata": {},
   "outputs": [],
   "source": [
    "#Discriminator\n",
    "def discriminator(x):\n",
    "    hid_layer = tf.add(tf.matmul(x,weights['disc_hidden_1']),biases['disc_hidden_1'])\n",
    "    hid_layer = tf.nn.relu(hid_layer)\n",
    "    \n",
    "    out_layer = tf.add(tf.matmul(hid_layer,weights['disc_out']),biases['disc_out'])\n",
    "    out_layer = tf.nn.sigmoid(out_layer)\n",
    "    \n",
    "    return out_layer"
   ]
  },
  {
   "cell_type": "code",
   "execution_count": 29,
   "metadata": {},
   "outputs": [],
   "source": [
    "#Building Network\n",
    "\n",
    "#Network inputs\n",
    "gen_input = tf.placeholder(tf.float32,shape=[None,noise_dim],name='input_noise')\n",
    "disc_input = tf.placeholder(tf.float32,shape=[None,image_dim],name='disc_input')\n",
    "\n",
    "#Build Gen Network\n",
    "gen_output = generator(gen_input)\n",
    "\n",
    "#Build 2 Disc Networks(one from noise input and one from generator samples)\n",
    "disc_real = discriminator(disc_input)\n",
    "disc_fake = discriminator(gen_output)\n",
    "\n",
    "#Build Loss\n",
    "gen_loss = -tf.reduce_mean(tf.log(disc_fake))\n",
    "disc_loss = -tf.reduce_mean(tf.log(disc_real)  + tf.log(1. - disc_fake))\n",
    "\n",
    "#Build Optimizers\n",
    "optimizer_gen = tf.train.AdamOptimizer(learning_rate=learning_rate)\n",
    "optimizer_disc = tf.train.AdamOptimizer(learning_rate=learning_rate)\n",
    "\n",
    "#VARIABLES\n",
    "gen_vars = [weights['gen_hidden_1'],weights['gen_out'],\n",
    "           biases['gen_hidden_1'],biases['gen_out']]\n",
    "disc_vars = [weights['disc_hidden_1'],weights['disc_out'],\n",
    "           biases['disc_hidden_1'],biases['disc_out']]\n",
    "\n",
    "#Training ops\n",
    "train_gen = optimizer_gen.minimize(gen_loss,var_list=gen_vars)\n",
    "train_disc = optimizer_disc.minimize(disc_loss,var_list=disc_vars)\n",
    "\n",
    "init = tf.global_variables_initializer()"
   ]
  },
  {
   "cell_type": "code",
   "execution_count": 30,
   "metadata": {},
   "outputs": [
    {
     "name": "stdout",
     "output_type": "stream",
     "text": [
      "Step 1: Generator Loss: 1.210587, Discriminator Loss: 1.236065\n",
      "Step 2000: Generator Loss: 4.695496, Discriminator Loss: 0.035461\n",
      "Step 4000: Generator Loss: 4.490327, Discriminator Loss: 0.040897\n",
      "Step 6000: Generator Loss: 4.175813, Discriminator Loss: 0.123997\n",
      "Step 8000: Generator Loss: 4.636317, Discriminator Loss: 0.114911\n",
      "Step 10000: Generator Loss: 3.550632, Discriminator Loss: 0.154316\n",
      "Step 12000: Generator Loss: 3.194623, Discriminator Loss: 0.253326\n",
      "Step 14000: Generator Loss: 4.805747, Discriminator Loss: 0.194194\n",
      "Step 16000: Generator Loss: 3.901429, Discriminator Loss: 0.209401\n",
      "Step 18000: Generator Loss: 3.324996, Discriminator Loss: 0.246867\n",
      "Step 20000: Generator Loss: 3.528189, Discriminator Loss: 0.338830\n",
      "Step 22000: Generator Loss: 3.614625, Discriminator Loss: 0.232057\n",
      "Step 24000: Generator Loss: 3.660890, Discriminator Loss: 0.309236\n",
      "Step 26000: Generator Loss: 3.354062, Discriminator Loss: 0.266566\n",
      "Step 28000: Generator Loss: 3.893543, Discriminator Loss: 0.367374\n",
      "Step 30000: Generator Loss: 3.563570, Discriminator Loss: 0.369771\n",
      "Step 32000: Generator Loss: 3.053637, Discriminator Loss: 0.265534\n",
      "Step 34000: Generator Loss: 3.150243, Discriminator Loss: 0.357412\n",
      "Step 36000: Generator Loss: 2.813179, Discriminator Loss: 0.356583\n",
      "Step 38000: Generator Loss: 2.718931, Discriminator Loss: 0.365824\n",
      "Step 40000: Generator Loss: 3.282542, Discriminator Loss: 0.508961\n",
      "Step 42000: Generator Loss: 2.600945, Discriminator Loss: 0.389456\n",
      "Step 44000: Generator Loss: 2.900861, Discriminator Loss: 0.462351\n",
      "Step 46000: Generator Loss: 2.798539, Discriminator Loss: 0.480631\n",
      "Step 48000: Generator Loss: 2.607337, Discriminator Loss: 0.508952\n",
      "Step 50000: Generator Loss: 2.831182, Discriminator Loss: 0.426506\n",
      "Step 52000: Generator Loss: 2.552653, Discriminator Loss: 0.413408\n",
      "Step 54000: Generator Loss: 2.804512, Discriminator Loss: 0.469867\n",
      "Step 56000: Generator Loss: 3.484885, Discriminator Loss: 0.364386\n",
      "Step 58000: Generator Loss: 2.848963, Discriminator Loss: 0.485169\n",
      "Step 60000: Generator Loss: 2.540829, Discriminator Loss: 0.510922\n",
      "Step 62000: Generator Loss: 3.100945, Discriminator Loss: 0.421623\n",
      "Step 64000: Generator Loss: 2.481862, Discriminator Loss: 0.571678\n",
      "Step 66000: Generator Loss: 2.676787, Discriminator Loss: 0.367919\n",
      "Step 68000: Generator Loss: 2.778974, Discriminator Loss: 0.441408\n",
      "Step 70000: Generator Loss: 2.925525, Discriminator Loss: 0.512687\n"
     ]
    }
   ],
   "source": [
    "#Start Training\n",
    "sess = tf.Session()\n",
    "sess.run(init)\n",
    "for i in range(1,num_steps+1):\n",
    "    batch_x, _ = mnist.train.next_batch(batch_size)\n",
    "    z = np.random.uniform(-1.,1.,size=[batch_size,noise_dim])\n",
    "\n",
    "    feed_dict = {disc_input:batch_x,gen_input:z}\n",
    "    _,_,gl,dl = sess.run([train_gen,train_disc,gen_loss,disc_loss],feed_dict=feed_dict)\n",
    "    if i%2000 == 0 or i == 1:\n",
    "        print('Step %i: Generator Loss: %f, Discriminator Loss: %f' %(i,gl,dl))    "
   ]
  },
  {
   "cell_type": "code",
   "execution_count": 35,
   "metadata": {},
   "outputs": [
    {
     "data": {
      "image/png": "[encoded data removed]",
      "text/plain": [
       "<Figure size 432x432 with 1 Axes>"
      ]
     },
     "metadata": {
      "needs_background": "light"
     },
     "output_type": "display_data"
    }
   ],
   "source": [
    "# Testing\n",
    "n = 6\n",
    "canvas = np.empty((28 * n, 28 * n))\n",
    "for i in range(n):\n",
    "    z = np.random.uniform(-1., 1., size=[n, noise_dim])\n",
    "    g = sess.run(gen_output, feed_dict={gen_input: z})\n",
    "    g = -1 * (g - 1)\n",
    "    for j in range(n):\n",
    "        canvas[i * 28:(i + 1) * 28, j * 28:(j + 1) * 28] = g[j].reshape([28, 28])\n",
    "\n",
    "plt.figure(figsize=(n, n))\n",
    "plt.imshow(canvas, origin=\"upper\", cmap=\"gray\")\n",
    "plt.show()"
   ]
  },
  {
   "cell_type": "code",
   "execution_count": null,
   "metadata": {},
   "outputs": [],
   "source": []
  }
 ],
 "metadata": {
  "kernelspec": {
   "display_name": "Python 3",
   "language": "python",
   "name": "python3"
  },
  "language_info": {
   "codemirror_mode": {
    "name": "ipython",
    "version": 3
   },
   "file_extension": ".py",
   "mimetype": "text/x-python",
   "name": "python",
   "nbconvert_exporter": "python",
   "pygments_lexer": "ipython3",
   "version": "3.6.7"
  }
 },
 "nbformat": 4,
 "nbformat_minor": 2
}
